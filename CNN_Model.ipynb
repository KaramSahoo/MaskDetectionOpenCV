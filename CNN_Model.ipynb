{
 "cells": [
  {
   "cell_type": "code",
   "execution_count": 9,
   "metadata": {},
   "outputs": [],
   "source": [
    "import numpy as np\n",
    "from keras.models import Sequential\n",
    "from keras.layers import Dense,Activation,Flatten,Dropout\n",
    "from keras.layers import Conv2D,MaxPooling2D\n",
    "from keras.callbacks import ModelCheckpoint"
   ]
  },
  {
   "cell_type": "code",
   "execution_count": 10,
   "metadata": {},
   "outputs": [
    {
     "name": "stdout",
     "output_type": "stream",
     "text": [
      "data shape: (1376, 100, 100, 1)\n",
      "target shape: (1376, 2)\n"
     ]
    }
   ],
   "source": [
    "data = np.load('data.npy')\n",
    "target = np.load('target.npy')\n",
    "print('data shape:', data.shape)\n",
    "print('target shape:', target.shape)"
   ]
  },
  {
   "cell_type": "code",
   "execution_count": 11,
   "metadata": {},
   "outputs": [],
   "source": [
    "model = Sequential()\n",
    "\n",
    "#The first CNN layer followed by Relu and MaxPooling layers\n",
    "model.add(Conv2D(200, (3, 3), input_shape = data.shape[1:]))\n",
    "model.add(Activation('relu'))\n",
    "model.add(MaxPooling2D(pool_size = (2, 2)))\n",
    "\n",
    "#The second convolution layer followed by Relu and MaxPooling layers\n",
    "model.add(Conv2D(100, (3, 3)))\n",
    "model.add(Activation('relu'))\n",
    "model.add(MaxPooling2D(pool_size = (2, 2)))\n",
    "\n",
    "#Flatten layer to stack the output convolutions from second convolution layer\n",
    "model.add(Flatten())\n",
    "model.add(Dropout(0.4))\n",
    "\n",
    "#Dense layer of 50 neurons\n",
    "model.add(Dense(60, activation='relu'))\n",
    "\n",
    "#The Final layer with two outputs for two categories\n",
    "model.add(Dense(2, activation = 'softmax'))\n",
    "\n",
    "model.compile(loss = 'categorical_crossentropy', optimizer = 'adam', metrics = ['accuracy'])"
   ]
  },
  {
   "cell_type": "code",
   "execution_count": 12,
   "metadata": {},
   "outputs": [
    {
     "name": "stdout",
     "output_type": "stream",
     "text": [
      "train_data: (1238, 100, 100, 1)\n",
      "train_target: (1238, 100, 100, 1)\n",
      "test_data: (1238, 100, 100, 1)\n",
      "test_target: (1238, 100, 100, 1)\n"
     ]
    }
   ],
   "source": [
    "from sklearn.model_selection import train_test_split\n",
    "\n",
    "train_data, test_data ,train_target ,test_target = train_test_split(data, target, test_size = 0.1)\n",
    "\n",
    "print('train_data:', train_data.shape)\n",
    "print('train_target:', train_data.shape)\n",
    "print('test_data:', train_data.shape)\n",
    "print('test_target:', train_data.shape)"
   ]
  },
  {
   "cell_type": "code",
   "execution_count": 13,
   "metadata": {},
   "outputs": [
    {
     "name": "stdout",
     "output_type": "stream",
     "text": [
      "Epoch 1/20\n",
      "31/31 [==============================] - ETA: 0s - loss: 0.8086 - accuracy: 0.5515\n",
      "Epoch 00001: val_loss improved from inf to 0.59735, saving model to model-001.model\n",
      "INFO:tensorflow:Assets written to: model-001.model\\assets\n",
      "31/31 [==============================] - 46s 1s/step - loss: 0.8086 - accuracy: 0.5515 - val_loss: 0.5974 - val_accuracy: 0.7621\n",
      "Epoch 2/20\n",
      "31/31 [==============================] - ETA: 0s - loss: 0.5207 - accuracy: 0.7404\n",
      "Epoch 00002: val_loss improved from 0.59735 to 0.46671, saving model to model-002.model\n",
      "INFO:tensorflow:Assets written to: model-002.model\\assets\n",
      "31/31 [==============================] - 49s 2s/step - loss: 0.5207 - accuracy: 0.7404 - val_loss: 0.4667 - val_accuracy: 0.7702\n",
      "Epoch 3/20\n",
      "31/31 [==============================] - ETA: 0s - loss: 0.3420 - accuracy: 0.8505\n",
      "Epoch 00003: val_loss improved from 0.46671 to 0.35405, saving model to model-003.model\n",
      "INFO:tensorflow:Assets written to: model-003.model\\assets\n",
      "31/31 [==============================] - 50s 2s/step - loss: 0.3420 - accuracy: 0.8505 - val_loss: 0.3540 - val_accuracy: 0.8266\n",
      "Epoch 4/20\n",
      "31/31 [==============================] - ETA: 0s - loss: 0.2310 - accuracy: 0.9111\n",
      "Epoch 00004: val_loss improved from 0.35405 to 0.25694, saving model to model-004.model\n",
      "INFO:tensorflow:Assets written to: model-004.model\\assets\n",
      "31/31 [==============================] - 51s 2s/step - loss: 0.2310 - accuracy: 0.9111 - val_loss: 0.2569 - val_accuracy: 0.9194\n",
      "Epoch 5/20\n",
      "31/31 [==============================] - ETA: 0s - loss: 0.1593 - accuracy: 0.9414\n",
      "Epoch 00005: val_loss improved from 0.25694 to 0.21281, saving model to model-005.model\n",
      "INFO:tensorflow:Assets written to: model-005.model\\assets\n",
      "31/31 [==============================] - 49s 2s/step - loss: 0.1593 - accuracy: 0.9414 - val_loss: 0.2128 - val_accuracy: 0.9113\n",
      "Epoch 6/20\n",
      "31/31 [==============================] - ETA: 0s - loss: 0.1295 - accuracy: 0.9556\n",
      "Epoch 00006: val_loss improved from 0.21281 to 0.17787, saving model to model-006.model\n",
      "INFO:tensorflow:Assets written to: model-006.model\\assets\n",
      "31/31 [==============================] - 91s 3s/step - loss: 0.1295 - accuracy: 0.9556 - val_loss: 0.1779 - val_accuracy: 0.9395\n",
      "Epoch 7/20\n",
      "31/31 [==============================] - ETA: 0s - loss: 0.0775 - accuracy: 0.9737\n",
      "Epoch 00007: val_loss did not improve from 0.17787\n",
      "31/31 [==============================] - 91s 3s/step - loss: 0.0775 - accuracy: 0.9737 - val_loss: 0.2059 - val_accuracy: 0.9355\n",
      "Epoch 8/20\n",
      "31/31 [==============================] - ETA: 0s - loss: 0.0575 - accuracy: 0.9788\n",
      "Epoch 00008: val_loss did not improve from 0.17787\n",
      "31/31 [==============================] - 91s 3s/step - loss: 0.0575 - accuracy: 0.9788 - val_loss: 0.1816 - val_accuracy: 0.9395\n",
      "Epoch 9/20\n",
      "31/31 [==============================] - ETA: 0s - loss: 0.0515 - accuracy: 0.9818\n",
      "Epoch 00009: val_loss improved from 0.17787 to 0.17660, saving model to model-009.model\n",
      "INFO:tensorflow:Assets written to: model-009.model\\assets\n",
      "31/31 [==============================] - 95s 3s/step - loss: 0.0515 - accuracy: 0.9818 - val_loss: 0.1766 - val_accuracy: 0.9476\n",
      "Epoch 10/20\n",
      "31/31 [==============================] - ETA: 0s - loss: 0.0445 - accuracy: 0.9848\n",
      "Epoch 00010: val_loss improved from 0.17660 to 0.16812, saving model to model-010.model\n",
      "INFO:tensorflow:Assets written to: model-010.model\\assets\n",
      "31/31 [==============================] - 93s 3s/step - loss: 0.0445 - accuracy: 0.9848 - val_loss: 0.1681 - val_accuracy: 0.9476\n",
      "Epoch 11/20\n",
      "31/31 [==============================] - ETA: 0s - loss: 0.0567 - accuracy: 0.9768\n",
      "Epoch 00011: val_loss did not improve from 0.16812\n",
      "31/31 [==============================] - 90s 3s/step - loss: 0.0567 - accuracy: 0.9768 - val_loss: 0.1939 - val_accuracy: 0.9315\n",
      "Epoch 12/20\n",
      "31/31 [==============================] - ETA: 0s - loss: 0.0401 - accuracy: 0.9889\n",
      "Epoch 00012: val_loss did not improve from 0.16812\n",
      "31/31 [==============================] - 89s 3s/step - loss: 0.0401 - accuracy: 0.9889 - val_loss: 0.2037 - val_accuracy: 0.9315\n",
      "Epoch 13/20\n",
      "31/31 [==============================] - ETA: 0s - loss: 0.0240 - accuracy: 0.9929\n",
      "Epoch 00013: val_loss did not improve from 0.16812\n",
      "31/31 [==============================] - 89s 3s/step - loss: 0.0240 - accuracy: 0.9929 - val_loss: 0.1695 - val_accuracy: 0.9556\n",
      "Epoch 14/20\n",
      "31/31 [==============================] - ETA: 0s - loss: 0.0131 - accuracy: 0.9970\n",
      "Epoch 00014: val_loss improved from 0.16812 to 0.14946, saving model to model-014.model\n",
      "INFO:tensorflow:Assets written to: model-014.model\\assets\n",
      "31/31 [==============================] - 96s 3s/step - loss: 0.0131 - accuracy: 0.9970 - val_loss: 0.1495 - val_accuracy: 0.9556\n",
      "Epoch 15/20\n",
      "31/31 [==============================] - ETA: 0s - loss: 0.0191 - accuracy: 0.9949\n",
      "Epoch 00015: val_loss did not improve from 0.14946\n",
      "31/31 [==============================] - 91s 3s/step - loss: 0.0191 - accuracy: 0.9949 - val_loss: 0.2245 - val_accuracy: 0.9355\n",
      "Epoch 16/20\n",
      "31/31 [==============================] - ETA: 0s - loss: 0.0618 - accuracy: 0.9768\n",
      "Epoch 00016: val_loss did not improve from 0.14946\n",
      "31/31 [==============================] - 88s 3s/step - loss: 0.0618 - accuracy: 0.9768 - val_loss: 0.1940 - val_accuracy: 0.9315\n",
      "Epoch 17/20\n",
      "31/31 [==============================] - ETA: 0s - loss: 0.0341 - accuracy: 0.9869\n",
      "Epoch 00017: val_loss did not improve from 0.14946\n",
      "31/31 [==============================] - 89s 3s/step - loss: 0.0341 - accuracy: 0.9869 - val_loss: 0.1515 - val_accuracy: 0.9516\n",
      "Epoch 18/20\n",
      "31/31 [==============================] - ETA: 0s - loss: 0.0219 - accuracy: 0.9929\n",
      "Epoch 00018: val_loss did not improve from 0.14946\n",
      "31/31 [==============================] - 89s 3s/step - loss: 0.0219 - accuracy: 0.9929 - val_loss: 0.1981 - val_accuracy: 0.9395\n",
      "Epoch 19/20\n",
      "31/31 [==============================] - ETA: 0s - loss: 0.0478 - accuracy: 0.9848\n",
      "Epoch 00019: val_loss did not improve from 0.14946\n",
      "31/31 [==============================] - 88s 3s/step - loss: 0.0478 - accuracy: 0.9848 - val_loss: 0.2958 - val_accuracy: 0.9113\n",
      "Epoch 20/20\n",
      "31/31 [==============================] - ETA: 0s - loss: 0.0307 - accuracy: 0.9899\n",
      "Epoch 00020: val_loss did not improve from 0.14946\n",
      "31/31 [==============================] - 88s 3s/step - loss: 0.0307 - accuracy: 0.9899 - val_loss: 0.2252 - val_accuracy: 0.9476\n"
     ]
    }
   ],
   "source": [
    "checkpoint = ModelCheckpoint('model-{epoch:03d}.model', monitor = 'val_loss', verbose = 1, save_best_only = True, mode = 'min')\n",
    "history = model.fit(train_data, train_target, epochs = 20, callbacks = [checkpoint], validation_split = 0.2)"
   ]
  },
  {
   "cell_type": "code",
   "execution_count": 14,
   "metadata": {},
   "outputs": [
    {
     "data": {
      "image/png": "[encoded data removed]",
      "text/plain": [
       "<Figure size 432x288 with 1 Axes>"
      ]
     },
     "metadata": {
      "needs_background": "light"
     },
     "output_type": "display_data"
    }
   ],
   "source": [
    "from matplotlib import pyplot as plt\n",
    "\n",
    "plt.plot(history.history['loss'], 'r', label = 'training loss')\n",
    "plt.plot(history.history['val_loss'], label = 'validation loss')\n",
    "plt.xlabel('# epochs')\n",
    "plt.ylabel('loss')\n",
    "plt.legend()\n",
    "plt.show()"
   ]
  },
  {
   "cell_type": "code",
   "execution_count": 15,
   "metadata": {},
   "outputs": [
    {
     "data": {
      "image/png": "[encoded data removed]",
      "text/plain": [
       "<Figure size 432x288 with 1 Axes>"
      ]
     },
     "metadata": {
      "needs_background": "light"
     },
     "output_type": "display_data"
    }
   ],
   "source": [
    "plt.plot(history.history['accuracy'], 'r', label = 'training accuracy')\n",
    "plt.plot(history.history['val_accuracy'], label = 'validation accuracy')\n",
    "plt.xlabel('# epochs')\n",
    "plt.ylabel('loss')\n",
    "plt.legend()\n",
    "plt.show()"
   ]
  },
  {
   "cell_type": "code",
   "execution_count": 16,
   "metadata": {},
   "outputs": [
    {
     "name": "stdout",
     "output_type": "stream",
     "text": [
      "5/5 [==============================] - 3s 515ms/step - loss: 0.2157 - accuracy: 0.9565\n",
      "[0.21568264067173004, 0.95652174949646]\n"
     ]
    }
   ],
   "source": [
    "print(model.evaluate(test_data,test_target))"
   ]
  },
  {
   "cell_type": "code",
   "execution_count": 17,
   "metadata": {},
   "outputs": [
    {
     "name": "stdout",
     "output_type": "stream",
     "text": [
      "Model: \"sequential_1\"\n",
      "_________________________________________________________________\n",
      "Layer (type)                 Output Shape              Param #   \n",
      "=================================================================\n",
      "conv2d_2 (Conv2D)            (None, 98, 98, 200)       2000      \n",
      "_________________________________________________________________\n",
      "activation_2 (Activation)    (None, 98, 98, 200)       0         \n",
      "_________________________________________________________________\n",
      "max_pooling2d_2 (MaxPooling2 (None, 49, 49, 200)       0         \n",
      "_________________________________________________________________\n",
      "conv2d_3 (Conv2D)            (None, 47, 47, 100)       180100    \n",
      "_________________________________________________________________\n",
      "activation_3 (Activation)    (None, 47, 47, 100)       0         \n",
      "_________________________________________________________________\n",
      "max_pooling2d_3 (MaxPooling2 (None, 23, 23, 100)       0         \n",
      "_________________________________________________________________\n",
      "flatten_1 (Flatten)          (None, 52900)             0         \n",
      "_________________________________________________________________\n",
      "dropout_1 (Dropout)          (None, 52900)             0         \n",
      "_________________________________________________________________\n",
      "dense_2 (Dense)              (None, 60)                3174060   \n",
      "_________________________________________________________________\n",
      "dense_3 (Dense)              (None, 2)                 122       \n",
      "=================================================================\n",
      "Total params: 3,356,282\n",
      "Trainable params: 3,356,282\n",
      "Non-trainable params: 0\n",
      "_________________________________________________________________\n"
     ]
    }
   ],
   "source": [
    "model.summary()"
   ]
  },
  {
   "cell_type": "code",
   "execution_count": null,
   "metadata": {},
   "outputs": [],
   "source": []
  }
 ],
 "metadata": {
  "hide_input": false,
  "kernelspec": {
   "display_name": "Python 3",
   "language": "python",
   "name": "python3"
  },
  "language_info": {
   "codemirror_mode": {
    "name": "ipython",
    "version": 3
   },
   "file_extension": ".py",
   "mimetype": "text/x-python",
   "name": "python",
   "nbconvert_exporter": "python",
   "pygments_lexer": "ipython3",
   "version": "3.7.4"
  }
 },
 "nbformat": 4,
 "nbformat_minor": 4
}
